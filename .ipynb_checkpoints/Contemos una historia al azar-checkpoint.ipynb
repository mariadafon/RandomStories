{
 "cells": [
  {
   "cell_type": "markdown",
   "metadata": {},
   "source": [
    "# Story from random images and your imagination ;)\n",
    "\n",
    "# Historia a partir de imágenes sorteadas al azar y de tu imaginación ;)"
   ]
  },
  {
   "cell_type": "code",
   "execution_count": null,
   "metadata": {},
   "outputs": [],
   "source": [
    "import os\n",
    "\n",
    "path = '/home/cbclab/Dropbox/stories/images/'\n",
    "# list with main characters images // lista con las imágenes de los personajes principales\n",
    "character_list = [f for f in os.listdir(path) if f.startswith('p')]\n",
    "# list with contexts images // lista con las imágenes de los contextos\n",
    "context_list = [f for f in os.listdir(path) if f.startswith('c')]\n",
    "# list with objects images // lista con las imágenes de los objetos\n",
    "object_list = [f for f in os.listdir(path) if f.startswith('o')]\n",
    "# list with secondary characters images // lista con las imágenes de los personajes secundarios\n",
    "secondary_list = [f for f in os.listdir(path) if f.startswith('s')]\n",
    "# list with actions images // lista con las imágenes de las acciones\n",
    "action_list = [f for f in os.listdir(path) if f.startswith('a')]"
   ]
  },
  {
   "cell_type": "markdown",
   "metadata": {},
   "source": [
    "## Beginning / Principio\n",
    "\n",
    "At the beginning, the code chooses randomly three images that could represent the main character, the context and a useful thing. \n",
    "\n",
    "    \"Once upon a time...\"\n",
    "\n",
    "Al principio, se sortean al azar tres imágenes que podrían representar al personaje principal, el contexto y un objeto de utilidad. \n",
    "\n",
    "    \"Había una vez...\""
   ]
  },
  {
   "cell_type": "code",
   "execution_count": null,
   "metadata": {},
   "outputs": [],
   "source": [
    "import random\n",
    "from IPython.display import display,SVG,HTML,Image\n",
    "\n",
    "# random choice main character // elección al azar del personaje principal\n",
    "character1 = random.choice(character_list)\n",
    "# random choice context // elección al azar del contexto\n",
    "context1 = random.choice(context_list)\n",
    "# random choice object // elección al azar de un objeto\n",
    "object1 = random.choice(object_list)\n",
    "\n",
    "# delete context1 from context_list to prevent of choosing it again // borrar context1 de context_list para no \n",
    "# volver a elegirla \n",
    "context_list.remove(context1)\n",
    "# delete object1 from object_list to prevent of choosing it again // borrar object1 de object_list para no \n",
    "# volver a elegirla \n",
    "object_list.remove(object1)"
   ]
  },
  {
   "cell_type": "code",
   "execution_count": null,
   "metadata": {},
   "outputs": [],
   "source": [
    "SVG(filename=path+character1)"
   ]
  },
  {
   "cell_type": "code",
   "execution_count": null,
   "metadata": {},
   "outputs": [],
   "source": [
    "SVG(filename=path+context1)"
   ]
  },
  {
   "cell_type": "code",
   "execution_count": null,
   "metadata": {},
   "outputs": [],
   "source": [
    "SVG(filename=path+object1)"
   ]
  },
  {
   "cell_type": "markdown",
   "metadata": {},
   "source": [
    "## Middle part / Parte central\n",
    "\n",
    "This is the core of the story, here the game randomly chooses what could be two actions and one object.\n",
    "\n",
    "Este es el corazón de la historia, acá se sortean lo que pueden ser dos acciones y un objeto. "
   ]
  },
  {
   "cell_type": "code",
   "execution_count": null,
   "metadata": {},
   "outputs": [],
   "source": [
    "# random choice action // elección al azar de una acción\n",
    "action1 = random.choice(action_list)\n",
    "# delete action1 from action_list to prevent of choosing it again // borrar action1 de action_list para no \n",
    "# volver a elegirla \n",
    "action_list.remove(action1)\n",
    "# random choice action // elección al azar de una acción\n",
    "action2 = random.choice(action_list)\n",
    "# random choice object // elección al azar de un objeto\n",
    "object2 = random.choice(object_list)\n",
    "\n",
    "# delete action2 from action_list to prevent of choosing it again // borrar action2 de action_list para no \n",
    "# volver a elegirla \n",
    "action_list.remove(action2)\n",
    "# delete object2 from object_list to prevent of choosing it again // borrar object2 de object_list para no \n",
    "# volver a elegirla \n",
    "object_list.remove(object2)"
   ]
  },
  {
   "cell_type": "code",
   "execution_count": null,
   "metadata": {},
   "outputs": [],
   "source": [
    "SVG(filename=path+action1)"
   ]
  },
  {
   "cell_type": "code",
   "execution_count": null,
   "metadata": {},
   "outputs": [],
   "source": [
    "SVG(filename=path+action2)"
   ]
  },
  {
   "cell_type": "code",
   "execution_count": null,
   "metadata": {},
   "outputs": [],
   "source": [
    "SVG(filename=path+object2)"
   ]
  },
  {
   "cell_type": "markdown",
   "metadata": {},
   "source": [
    "## Solution part / Desenlace\n",
    "\n",
    "If there was a conflict, in this part the solution could be found. What could be a secondary character, an action and an object are randomly selected.\n",
    "\n",
    "Si hubo un conflicto, en esta parte se podría hallar la solución al mismo. Se sortean al azar lo que podrían ser un personaje secundario, una acción y un objeto."
   ]
  },
  {
   "cell_type": "code",
   "execution_count": null,
   "metadata": {},
   "outputs": [],
   "source": [
    "# random choice secondary character // elección al azar de un personaje secundario\n",
    "secondary1 = random.choice(secondary_list)\n",
    "# random choice action // elección al azar de una acción\n",
    "action3 = random.choice(action_list)\n",
    "# random choice object // elección al azar de un objeto\n",
    "object3 = random.choice(object_list)\n",
    "\n",
    "# delete action3 from action_list to prevent of choosing it again // borrar action3 de action_list para no \n",
    "# volver a elegirla \n",
    "action_list.remove(action3)\n",
    "# delete object3 from object_list to prevent of choosing it again // borrar object3 de object_list para no \n",
    "# volver a elegirla \n",
    "object_list.remove(object3)"
   ]
  },
  {
   "cell_type": "code",
   "execution_count": null,
   "metadata": {},
   "outputs": [],
   "source": [
    "SVG(filename=path+secondary1)"
   ]
  },
  {
   "cell_type": "code",
   "execution_count": null,
   "metadata": {},
   "outputs": [],
   "source": [
    "SVG(filename=path+action3)"
   ]
  },
  {
   "cell_type": "code",
   "execution_count": null,
   "metadata": {},
   "outputs": [],
   "source": [
    "SVG(filename=path+object3)"
   ]
  },
  {
   "cell_type": "markdown",
   "metadata": {},
   "source": [
    "## Ending / Final\n",
    "\n",
    "Every story has an ending and this story is not an exception. Here, the code randomly chooses two images that could be a context and an object.\n",
    "\n",
    "Toda historia tiene un final y esta no es la excepción. Aquí se sortean al azar dos imágenes que podrían representar un contexto y un objeto."
   ]
  },
  {
   "cell_type": "code",
   "execution_count": null,
   "metadata": {},
   "outputs": [],
   "source": [
    "# random choice context // elección al azar de un contexto\n",
    "context2 = random.choice(context_list)\n",
    "# random choice object // elección al azar de un objeto\n",
    "object4 = random.choice(object_list)"
   ]
  },
  {
   "cell_type": "code",
   "execution_count": null,
   "metadata": {},
   "outputs": [],
   "source": [
    "SVG(filename=path+context2)"
   ]
  },
  {
   "cell_type": "code",
   "execution_count": null,
   "metadata": {},
   "outputs": [],
   "source": [
    "SVG(filename=path+object4)"
   ]
  },
  {
   "cell_type": "markdown",
   "metadata": {},
   "source": [
    "    \"The end\"\n",
    "    \n",
    "    \"Fin\""
   ]
  }
 ],
 "metadata": {
  "kernelspec": {
   "display_name": "Python 3",
   "language": "python",
   "name": "python3"
  },
  "language_info": {
   "codemirror_mode": {
    "name": "ipython",
    "version": 3
   },
   "file_extension": ".py",
   "mimetype": "text/x-python",
   "name": "python",
   "nbconvert_exporter": "python",
   "pygments_lexer": "ipython3",
   "version": "3.8.5"
  }
 },
 "nbformat": 4,
 "nbformat_minor": 4
}
